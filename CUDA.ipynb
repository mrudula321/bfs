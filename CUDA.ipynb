{
  "nbformat": 4,
  "nbformat_minor": 0,
  "metadata": {
    "colab": {
      "provenance": [],
      "gpuType": "T4"
    },
    "kernelspec": {
      "name": "python3",
      "display_name": "Python 3"
    },
    "language_info": {
      "name": "python"
    },
    "accelerator": "GPU",
    "gpuClass": "standard"
  },
  "cells": [
    {
      "cell_type": "code",
      "execution_count": null,
      "metadata": {
        "id": "0YlFhfWJkKQQ"
      },
      "outputs": [],
      "source": [
        "!/usr/local/cuda/bin/nvcc --version"
      ]
    },
    {
      "cell_type": "code",
      "source": [
        "!pip install git+https://github.com/andreinechaev/nvcc4jupyter.git"
      ],
      "metadata": {
        "id": "LJChy_0YkbhO"
      },
      "execution_count": null,
      "outputs": []
    },
    {
      "cell_type": "code",
      "source": [
        "%load_ext nvcc_plugin"
      ],
      "metadata": {
        "id": "dDoL_8EJkc22"
      },
      "execution_count": null,
      "outputs": []
    },
    {
      "cell_type": "code",
      "source": [
        "%%cu\n",
        "#include <cstdlib>\n",
        "#include <iostream>\n",
        "\n",
        "#define checkCudaErrors(call)                                                                 \\\n",
        "    do {                                                                                      \\\n",
        "        cudaError_t err = call;                                                               \\\n",
        "        if (err != cudaSuccess) {                                                             \\\n",
        "            printf(\"CUDA error at %s %d: %s\\n\", __FILE__, __LINE__, cudaGetErrorString(err)); \\\n",
        "            exit(EXIT_FAILURE);                                                               \\\n",
        "        }                                                                                     \\\n",
        "    } while (0)\n",
        "\n",
        "using namespace std;\n",
        "\n",
        "// VectorAdd parallel function\n",
        "__global__ void vectorAdd(int *a, int *b, int *result, int n) {\n",
        "    int tid = threadIdx.x + blockIdx.x * blockDim.x;\n",
        "    if (tid < n) {\n",
        "        result[tid] = a[tid] + b[tid];\n",
        "    }\n",
        "}\n",
        "\n",
        "int main() {\n",
        "    int *a, *b, *c;\n",
        "    int *a_dev, *b_dev, *c_dev;\n",
        "    int n = 1 << 4;\n",
        "\n",
        "    a = new int[n];\n",
        "    b = new int[n];\n",
        "    c = new int[n];\n",
        "    int *d = new int[n];\n",
        "    int size = n * sizeof(int);\n",
        "    checkCudaErrors(cudaMalloc(&a_dev, size));\n",
        "    checkCudaErrors(cudaMalloc(&b_dev, size));\n",
        "    checkCudaErrors(cudaMalloc(&c_dev, size));\n",
        "\n",
        "    // Array initialization..You can use Randon function to assign values\n",
        "    for (int i = 0; i < n; i++) {\n",
        "        a[i] = rand() % 1000;\n",
        "        b[i] = rand() % 1000;\n",
        "        d[i] = a[i] + b[i];  // calculating serial addition\n",
        "    }\n",
        "    cout << \"Given array A is =>\\n\";\n",
        "    for (int i = 0; i < n; i++) {\n",
        "        cout << a[i] << \", \";\n",
        "    }\n",
        "    cout << \"\\n\\n\";\n",
        "\n",
        "    cout << \"Given array B is =>\\n\";\n",
        "    for (int i = 0; i < n; i++) {\n",
        "        cout << b[i] << \", \";\n",
        "    }\n",
        "    cout << \"\\n\\n\";\n",
        "\n",
        "    cudaEvent_t start, end;\n",
        "\n",
        "    checkCudaErrors(cudaEventCreate(&start));\n",
        "    checkCudaErrors(cudaEventCreate(&end));\n",
        "\n",
        "    checkCudaErrors(cudaMemcpy(a_dev, a, size, cudaMemcpyHostToDevice));\n",
        "    checkCudaErrors(cudaMemcpy(b_dev, b, size, cudaMemcpyHostToDevice));\n",
        "    int threads = 1024;\n",
        "    int blocks = (n + threads - 1) / threads;\n",
        "    checkCudaErrors(cudaEventRecord(start));\n",
        "\n",
        "    // Parallel addition program\n",
        "    vectorAdd<<<blocks, threads>>>(a_dev, b_dev, c_dev, n);\n",
        "\n",
        "    checkCudaErrors(cudaEventRecord(end));\n",
        "    checkCudaErrors(cudaEventSynchronize(end));\n",
        "\n",
        "    float time = 0.0;\n",
        "    checkCudaErrors(cudaEventElapsedTime(&time, start, end));\n",
        "\n",
        "    checkCudaErrors(cudaMemcpy(c, c_dev, size, cudaMemcpyDeviceToHost));\n",
        "\n",
        "    // Calculate the error term.\n",
        "\n",
        "    cout << \"CPU sum is =>\\n\";\n",
        "    for (int i = 0; i < n; i++) {\n",
        "        cout << d[i] << \", \";\n",
        "    }\n",
        "    cout << \"\\n\\n\";\n",
        "\n",
        "    cout << \"GPU sum is =>\\n\";\n",
        "    for (int i = 0; i < n; i++) {\n",
        "        cout << c[i] << \", \";\n",
        "    }\n",
        "    cout << \"\\n\\n\";\n",
        "\n",
        "    int error = 0;\n",
        "    for (int i = 0; i < n; i++) {\n",
        "        error += d[i] - c[i];\n",
        "        if (0 != (d[i] - c[i])) {\n",
        "            cout << \"Error at (\" << i << \") => GPU: \" << c[i] << \", CPU: \" << d[i] << \"\\n\";\n",
        "        }\n",
        "    }\n",
        "\n",
        "    cout << \"\\nError : \" << error;\n",
        "    cout << \"\\nTime Elapsed: \" << time;\n",
        "\n",
        "    return 0;\n",
        "}"
      ],
      "metadata": {
        "id": "KzRFZkyLkhE4"
      },
      "execution_count": null,
      "outputs": []
    },
    {
      "cell_type": "code",
      "source": [],
      "metadata": {
        "id": "Y_6XgRk_kjmN"
      },
      "execution_count": null,
      "outputs": []
    }
  ]
}