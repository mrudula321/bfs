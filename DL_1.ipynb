{
 "cells": [
  {
   "cell_type": "code",
   "execution_count": 18,
   "metadata": {},
   "outputs": [],
   "source": [
    "#importing required libraries\n",
    "import numpy as np\n",
    "import pandas as pd\n",
    "import tensorflow as tf\n",
    "from sklearn.model_selection import train_test_split\n",
    "from sklearn.preprocessing import StandardScaler"
   ]
  },
  {
   "cell_type": "code",
   "execution_count": 19,
   "metadata": {},
   "outputs": [],
   "source": [
    "# Load Boston Housing dataset\n",
    "data = pd.read_csv('./HousingData.csv')"
   ]
  },
  {
   "cell_type": "code",
   "execution_count": 20,
   "metadata": {},
   "outputs": [
    {
     "name": "stdout",
     "output_type": "stream",
     "text": [
      "CRIM       20\n",
      "ZN         20\n",
      "INDUS      20\n",
      "CHAS       20\n",
      "NOX         0\n",
      "RM          0\n",
      "AGE        20\n",
      "DIS         0\n",
      "RAD         0\n",
      "TAX         0\n",
      "PTRATIO     0\n",
      "B           0\n",
      "LSTAT      20\n",
      "MEDV        0\n",
      "dtype: int64\n"
     ]
    }
   ],
   "source": [
    "# Check for missing values\n",
    "print(data.isnull().sum())\n",
    "\n",
    "# Replace missing values with mean\n",
    "data.fillna(data.mean(), inplace=True)"
   ]
  },
  {
   "cell_type": "code",
   "execution_count": 21,
   "metadata": {},
   "outputs": [],
   "source": [
    "# Split the data into features and target\n",
    "x = data.drop('MEDV', axis=1).values\n",
    "y = data['MEDV'].values.reshape(-1, 1)"
   ]
  },
  {
   "cell_type": "code",
   "execution_count": 22,
   "metadata": {},
   "outputs": [],
   "source": [
    "# Split the data into training and testing sets\n",
    "x_train, x_test, y_train, y_test = train_test_split(x, y, test_size=0.2, random_state=42)"
   ]
  },
  {
   "cell_type": "code",
   "execution_count": 23,
   "metadata": {},
   "outputs": [],
   "source": [
    "# Scale the features using standardization\n",
    "scaler = StandardScaler()\n",
    "x_train = scaler.fit_transform(x_train)\n",
    "x_test = scaler.transform(x_test)\n",
    "y_train = scaler.fit_transform(y_train)\n",
    "y_test = scaler.transform(y_test)\n",
    "\n"
   ]
  },
  {
   "cell_type": "code",
   "execution_count": 24,
   "metadata": {},
   "outputs": [],
   "source": [
    "# Define the deep neural network model\n",
    "model = tf.keras.Sequential([\n",
    "    tf.keras.layers.Dense(64,activation='relu'),\n",
    "    tf.keras.layers.Dense(64, activation='relu'),\n",
    "    tf.keras.layers.Dense(1, activation='linear')\n",
    "])"
   ]
  },
  {
   "cell_type": "code",
   "execution_count": 25,
   "metadata": {},
   "outputs": [],
   "source": [
    "# Compile the model\n",
    "model.compile(loss='mse', optimizer=tf.keras.optimizers.Adam(learning_rate=0.01))"
   ]
  },
  {
   "cell_type": "code",
   "execution_count": 26,
   "metadata": {},
   "outputs": [],
   "source": [
    "#Define callbacks\n",
    "early_stopping  = tf.keras.callbacks.EarlyStopping(patience=10,restore_best_weights = True)\n",
    "lr_scheduler = tf.keras.callbacks.ReduceLROnPlateau(factor=0.5,patience=5)"
   ]
  },
  {
   "cell_type": "code",
   "execution_count": 27,
   "metadata": {},
   "outputs": [
    {
     "name": "stdout",
     "output_type": "stream",
     "text": [
      "Epoch 1/100\n",
      "11/11 [==============================] - 1s 20ms/step - loss: 0.4334 - val_loss: 0.2610 - lr: 0.0100\n",
      "Epoch 2/100\n",
      "11/11 [==============================] - 0s 7ms/step - loss: 0.2282 - val_loss: 0.2385 - lr: 0.0100\n",
      "Epoch 3/100\n",
      "11/11 [==============================] - 0s 8ms/step - loss: 0.1730 - val_loss: 0.2320 - lr: 0.0100\n",
      "Epoch 4/100\n",
      "11/11 [==============================] - 0s 6ms/step - loss: 0.1831 - val_loss: 0.2137 - lr: 0.0100\n",
      "Epoch 5/100\n",
      "11/11 [==============================] - 0s 6ms/step - loss: 0.1375 - val_loss: 0.1609 - lr: 0.0100\n",
      "Epoch 6/100\n",
      "11/11 [==============================] - 0s 7ms/step - loss: 0.1727 - val_loss: 0.1592 - lr: 0.0100\n",
      "Epoch 7/100\n",
      "11/11 [==============================] - 0s 6ms/step - loss: 0.1284 - val_loss: 0.1926 - lr: 0.0100\n",
      "Epoch 8/100\n",
      "11/11 [==============================] - 0s 6ms/step - loss: 0.1029 - val_loss: 0.1598 - lr: 0.0100\n",
      "Epoch 9/100\n",
      "11/11 [==============================] - 0s 7ms/step - loss: 0.0802 - val_loss: 0.1288 - lr: 0.0100\n",
      "Epoch 10/100\n",
      "11/11 [==============================] - 0s 6ms/step - loss: 0.0670 - val_loss: 0.1267 - lr: 0.0100\n",
      "Epoch 11/100\n",
      "11/11 [==============================] - 0s 6ms/step - loss: 0.0693 - val_loss: 0.1703 - lr: 0.0100\n",
      "Epoch 12/100\n",
      "11/11 [==============================] - 0s 6ms/step - loss: 0.0712 - val_loss: 0.1247 - lr: 0.0100\n",
      "Epoch 13/100\n",
      "11/11 [==============================] - 0s 7ms/step - loss: 0.0636 - val_loss: 0.1294 - lr: 0.0100\n",
      "Epoch 14/100\n",
      "11/11 [==============================] - 0s 6ms/step - loss: 0.0557 - val_loss: 0.1361 - lr: 0.0100\n",
      "Epoch 15/100\n",
      "11/11 [==============================] - 0s 7ms/step - loss: 0.0546 - val_loss: 0.1180 - lr: 0.0100\n",
      "Epoch 16/100\n",
      "11/11 [==============================] - 0s 6ms/step - loss: 0.0613 - val_loss: 0.1238 - lr: 0.0100\n",
      "Epoch 17/100\n",
      "11/11 [==============================] - 0s 6ms/step - loss: 0.0588 - val_loss: 0.1540 - lr: 0.0100\n",
      "Epoch 18/100\n",
      "11/11 [==============================] - 0s 6ms/step - loss: 0.0562 - val_loss: 0.1686 - lr: 0.0100\n",
      "Epoch 19/100\n",
      "11/11 [==============================] - 0s 6ms/step - loss: 0.0629 - val_loss: 0.1266 - lr: 0.0100\n",
      "Epoch 20/100\n",
      "11/11 [==============================] - 0s 7ms/step - loss: 0.0465 - val_loss: 0.1158 - lr: 0.0100\n",
      "Epoch 21/100\n",
      "11/11 [==============================] - 0s 7ms/step - loss: 0.0510 - val_loss: 0.1463 - lr: 0.0100\n",
      "Epoch 22/100\n",
      "11/11 [==============================] - 0s 7ms/step - loss: 0.0482 - val_loss: 0.1148 - lr: 0.0100\n",
      "Epoch 23/100\n",
      "11/11 [==============================] - 0s 7ms/step - loss: 0.0530 - val_loss: 0.1221 - lr: 0.0100\n",
      "Epoch 24/100\n",
      "11/11 [==============================] - 0s 6ms/step - loss: 0.0429 - val_loss: 0.1122 - lr: 0.0100\n",
      "Epoch 25/100\n",
      "11/11 [==============================] - 0s 7ms/step - loss: 0.0462 - val_loss: 0.1119 - lr: 0.0100\n",
      "Epoch 26/100\n",
      "11/11 [==============================] - 0s 8ms/step - loss: 0.0426 - val_loss: 0.1369 - lr: 0.0100\n",
      "Epoch 27/100\n",
      "11/11 [==============================] - 0s 8ms/step - loss: 0.0433 - val_loss: 0.1201 - lr: 0.0100\n",
      "Epoch 28/100\n",
      "11/11 [==============================] - 0s 8ms/step - loss: 0.0417 - val_loss: 0.1102 - lr: 0.0100\n",
      "Epoch 29/100\n",
      "11/11 [==============================] - 0s 6ms/step - loss: 0.0372 - val_loss: 0.1069 - lr: 0.0100\n",
      "Epoch 30/100\n",
      "11/11 [==============================] - 0s 7ms/step - loss: 0.0491 - val_loss: 0.1457 - lr: 0.0100\n",
      "Epoch 31/100\n",
      "11/11 [==============================] - 0s 7ms/step - loss: 0.0533 - val_loss: 0.1153 - lr: 0.0100\n",
      "Epoch 32/100\n",
      "11/11 [==============================] - 0s 7ms/step - loss: 0.0415 - val_loss: 0.1295 - lr: 0.0100\n",
      "Epoch 33/100\n",
      "11/11 [==============================] - 0s 7ms/step - loss: 0.0438 - val_loss: 0.1302 - lr: 0.0100\n",
      "Epoch 34/100\n",
      "11/11 [==============================] - 0s 9ms/step - loss: 0.0347 - val_loss: 0.1124 - lr: 0.0100\n",
      "Epoch 35/100\n",
      "11/11 [==============================] - 0s 10ms/step - loss: 0.0307 - val_loss: 0.1131 - lr: 0.0050\n",
      "Epoch 36/100\n",
      "11/11 [==============================] - 0s 8ms/step - loss: 0.0276 - val_loss: 0.1187 - lr: 0.0050\n",
      "Epoch 37/100\n",
      "11/11 [==============================] - 0s 6ms/step - loss: 0.0234 - val_loss: 0.1139 - lr: 0.0050\n",
      "Epoch 38/100\n",
      "11/11 [==============================] - 0s 6ms/step - loss: 0.0280 - val_loss: 0.1191 - lr: 0.0050\n",
      "Epoch 39/100\n",
      "11/11 [==============================] - 0s 7ms/step - loss: 0.0272 - val_loss: 0.1212 - lr: 0.0050\n"
     ]
    }
   ],
   "source": [
    "# Train the model\n",
    "history = model.fit(x_train, y_train, epochs=100, batch_size=32,callbacks = [early_stopping,lr_scheduler],validation_split = 0.20,verbose=1)"
   ]
  },
  {
   "cell_type": "code",
   "execution_count": 28,
   "metadata": {},
   "outputs": [
    {
     "name": "stdout",
     "output_type": "stream",
     "text": [
      "4/4 [==============================] - 0s 2ms/step - loss: 0.1164\n",
      "MSE: 0.1164\n"
     ]
    }
   ],
   "source": [
    "# Evaluate the model on the test set\n",
    "mse = model.evaluate(x_test, y_test)\n",
    "print(f'MSE: {mse:.4f}')"
   ]
  },
  {
   "cell_type": "code",
   "execution_count": 29,
   "metadata": {},
   "outputs": [
    {
     "name": "stdout",
     "output_type": "stream",
     "text": [
      "4/4 [==============================] - 0s 2ms/step\n"
     ]
    }
   ],
   "source": [
    "# Make predictions on the test set\n",
    "y_pred = model.predict(x_test)"
   ]
  },
  {
   "cell_type": "code",
   "execution_count": 30,
   "metadata": {},
   "outputs": [],
   "source": [
    "# Unscale the data\n",
    "y_test = scaler.inverse_transform(y_test)\n",
    "y_pred = scaler.inverse_transform(y_pred)"
   ]
  },
  {
   "cell_type": "code",
   "execution_count": 31,
   "metadata": {},
   "outputs": [
    {
     "name": "stdout",
     "output_type": "stream",
     "text": [
      "Predicted Prices:\n",
      " [[25.568174]\n",
      " [38.532932]\n",
      " [14.989201]\n",
      " [23.20464 ]\n",
      " [15.451577]\n",
      " [20.887722]\n",
      " [18.98012 ]\n",
      " [15.879677]\n",
      " [21.388348]\n",
      " [19.41544 ]]\n"
     ]
    }
   ],
   "source": [
    "#print first 10 predictions prices\n",
    "print('Predicted Prices:\\n',y_pred[:10])"
   ]
  },
  {
   "cell_type": "code",
   "execution_count": null,
   "metadata": {},
   "outputs": [],
   "source": []
  },
  {
   "cell_type": "code",
   "execution_count": null,
   "metadata": {},
   "outputs": [],
   "source": []
  }
 ],
 "metadata": {
  "kernelspec": {
   "display_name": "Python 3",
   "language": "python",
   "name": "python3"
  },
  "language_info": {
   "codemirror_mode": {
    "name": "ipython",
    "version": 3
   },
   "file_extension": ".py",
   "mimetype": "text/x-python",
   "name": "python",
   "nbconvert_exporter": "python",
   "pygments_lexer": "ipython3",
   "version": "3.8.10"
  }
 },
 "nbformat": 4,
 "nbformat_minor": 4
}
